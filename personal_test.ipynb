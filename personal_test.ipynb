{
 "cells": [
  {
   "cell_type": "code",
   "execution_count": 2,
   "metadata": {},
   "outputs": [],
   "source": [
    "# basic libraries needed\n",
    "import pandas as pd\n",
    "import seaborn as sns\n",
    "import numpy as np\n",
    "import matplotlib.pyplot as plt\n",
    "import copy\n",
    "import tensorflow as tf\n",
    "import keras.api._v2.keras as keras\n",
    "from keras import Sequential\n",
    "from keras.layers import LSTM, Dense, Dropout, TimeDistributed, Conv1D, MaxPooling1D, Flatten, Bidirectional, Input, Flatten, Activation, Reshape, RepeatVector, Concatenate\n",
    "from keras.models import Model\n",
    "from keras.utils import plot_model\n",
    "from keras.callbacks import EarlyStopping, ReduceLROnPlateau, ModelCheckpoint\n",
    "from sklearn.model_selection import train_test_split\n",
    "from sklearn.metrics import mean_squared_error\n",
    "from math import sqrt\n",
    "from numpy import array"
   ]
  },
  {
   "cell_type": "code",
   "execution_count": 6,
   "metadata": {},
   "outputs": [],
   "source": [
    "# data_hor_disc = pd.read_excel(\"Data/DiscreteMotion_Data_Horizontalsetup.xlsx\", sheet_name = \"Sheet1\")\n",
    "# data_hor_cont = pd.read_excel(\"Data/ContinuousMotion_Data_Horizontalsetup.xlsx\", sheet_name = \"Sheet1\")\n",
    "# data_ver_disc = pd.read_excel(\"Data/DiscreteMotion_Data_Verticalsetup.xlsx\", sheet_name = \"Tabelle1\")\n",
    "# data_ver_cont = pd.read_excel(\"Data/ContinuousMotion_Data_Verticalsetup.xlsx\", sheet_name = \"Tabelle1\")\n",
    "\n",
    "data_hor=pd.read_csv(\"Data/combined_data_hor.csv\")\n",
    "data_hor = data_hor.drop('Unnamed: 0', axis=1)"
   ]
  },
  {
   "cell_type": "code",
   "execution_count": 7,
   "metadata": {},
   "outputs": [
    {
     "data": {
      "text/plain": [
       "Index(['Pow_100_disc', 'Pow_100_cont', 'Pow_200_disc', 'Pow_200_cont',\n",
       "       'Pow_300_disc', 'Pow_300_cont', 'Pow_400_disc', 'Pow_400_cont',\n",
       "       'Pow_500_disc', 'Pow_500_cont', 'Pow_600_disc', 'Pow_600_cont',\n",
       "       'Pow_700_disc', 'Pow_700_cont', 'Pow_800_disc', 'Pow_800_cont',\n",
       "       'Pow_900_disc', 'Pow_900_cont', 'Pow_1000_disc', 'Pow_1000_cont',\n",
       "       'Pow_1100_disc', 'Pow_1100_cont', 'Pow_1200_disc', 'Pow_1200_cont',\n",
       "       'Pow_1300_disc', 'Pow_1300_cont', 'Pow_1400_disc', 'Pow_1400_cont',\n",
       "       'Pow_1500_disc', 'Pow_1500_cont', 'Pow_1600_disc', 'Pow_1600_cont',\n",
       "       'Pow_1700_disc', 'Pow_1700_cont', 'Pow_1800_disc', 'Pow_1800_cont',\n",
       "       'Pow_1900_disc', 'Pow_1900_cont', 'Pow_2000_disc', 'Pow_2000_cont'],\n",
       "      dtype='object')"
      ]
     },
     "execution_count": 7,
     "metadata": {},
     "output_type": "execute_result"
    }
   ],
   "source": [
    "data_hor.columns"
   ]
  },
  {
   "cell_type": "code",
   "execution_count": 8,
   "metadata": {},
   "outputs": [],
   "source": [
    "from sklearn.preprocessing import MinMaxScaler\n",
    "power_list = [i for i in data_hor.columns]\n",
    "scaler = MinMaxScaler()\n",
    "\n",
    "# perc=0.7\n",
    "\n",
    "\n",
    "# # Splitting the dataset into train and test --> 70% in length is used for train\n",
    "# df_train=data_hor_disc.head(int(len(data_hor_disc)*perc))\n",
    "# df_test=data_hor_disc.head(int(len(data_hor_disc)*(1-perc)))\n",
    "\n",
    "# scaled_train = scaler.fit_transform(df_train[power_list])\n",
    "# scaled_test = scaler.transform(df_test[power_list])\n",
    "\n",
    "# from sklearn.preprocessing import MinMaxScaler\n",
    "# power_list = [i for i in data_hor_disc.columns]\n",
    "# scaler = MinMaxScaler()\n",
    "\n",
    "perc=0.7\n",
    "\n",
    "# Splitting the dataset into train and test --> 70% in length is used for train\n",
    "train_size = int(len(data_hor) * perc)\n",
    "test_size = len(data_hor) - train_size\n",
    "df_train = data_hor[0:train_size]\n",
    "df_test = data_hor[train_size:len(data_hor)]\n",
    "\n",
    "scaled_train = scaler.fit_transform(df_train[power_list])\n",
    "scaled_test = scaler.transform(df_test[power_list])"
   ]
  },
  {
   "cell_type": "code",
   "execution_count": 9,
   "metadata": {},
   "outputs": [],
   "source": [
    "def split_sequence(sequence, look_back, forecast_horizon):\n",
    "    X, y = list(), list()\n",
    "    for i in range(len(sequence)): \n",
    "        lag_end = i + look_back\n",
    "        forecast_end = lag_end + forecast_horizon\n",
    "        if forecast_end > len(sequence):\n",
    "            break\n",
    "        seq_x, seq_y = sequence[i:lag_end], sequence[lag_end:forecast_end]\n",
    "        X.append(seq_x)\n",
    "        y.append(seq_y)\n",
    "        \n",
    "    return np.array(X), np.array(y)"
   ]
  },
  {
   "cell_type": "code",
   "execution_count": 10,
   "metadata": {},
   "outputs": [],
   "source": [
    "def evaluate_forecast(y_test_inverse, yhat_inverse):\n",
    "    mse_ = tf.keras.losses.MeanSquaredError()\n",
    "    mae_ = tf.keras.losses.MeanAbsoluteError()\n",
    "    mape_ = tf.keras.losses.MeanAbsolutePercentageError()\n",
    "    mae = mae_(y_test_inverse,yhat_inverse)\n",
    "    print('mae:', mae)\n",
    "    mse = mse_(y_test_inverse,yhat_inverse)\n",
    "    print('mse:', mse)\n",
    "    mape = mape_(y_test_inverse,yhat_inverse)\n",
    "    print('mape:', mape)"
   ]
  },
  {
   "cell_type": "code",
   "execution_count": 11,
   "metadata": {},
   "outputs": [
    {
     "name": "stdout",
     "output_type": "stream",
     "text": [
      "(30980, 500, 40)\n",
      "(30980, 20, 40)\n",
      "(12982, 500, 40)\n",
      "(12982, 20, 40)\n"
     ]
    }
   ],
   "source": [
    "LOOK_BACK=500\n",
    "FORECAST_RANGE=20\n",
    "\n",
    "## making the look_back according to the main frequency since the data are kindly periodic\n",
    "\n",
    "n_features=len(power_list)\n",
    "\n",
    "X_train, y_train = split_sequence(scaled_train, look_back=LOOK_BACK, forecast_horizon=FORECAST_RANGE)\n",
    "X_test, y_test = split_sequence(scaled_test, look_back=LOOK_BACK, forecast_horizon=FORECAST_RANGE)\n",
    "print(X_train.shape)\n",
    "print(y_train.shape)\n",
    "print(X_test.shape)\n",
    "print(y_test.shape)"
   ]
  },
  {
   "cell_type": "code",
   "execution_count": 12,
   "metadata": {},
   "outputs": [],
   "source": [
    "def inverse_transform(y_test, yhat):\n",
    "    y_test_reshaped = y_test.reshape(-1, y_test.shape[-1])\n",
    "    yhat_reshaped = yhat.reshape(-1, yhat.shape[-1])\n",
    "    yhat_inverse = scaler.inverse_transform(yhat_reshaped)\n",
    "    y_test_inverse = scaler.inverse_transform(y_test_reshaped)\n",
    "    return yhat_inverse, y_test_inverse"
   ]
  },
  {
   "cell_type": "code",
   "execution_count": 13,
   "metadata": {},
   "outputs": [],
   "source": [
    "epochs = 50\n",
    "batch_size = 32\n",
    "validation = 0.1"
   ]
  },
  {
   "cell_type": "code",
   "execution_count": 14,
   "metadata": {},
   "outputs": [],
   "source": [
    "checkpoint_filepath = 'improvementsModel_combinedData_20_mac/weights-improvement-{epoch:06d}-{val_loss:.6f}.hdf5'\n",
    "checkpoint_callback = ModelCheckpoint(\n",
    "    filepath=checkpoint_filepath,\n",
    "    save_weights_only=False,\n",
    "    monitor='val_loss',\n",
    "    mode='min',\n",
    "    save_best_only=True)\n",
    "early_stopping_callback = EarlyStopping(\n",
    "    monitor='val_loss',\n",
    "    min_delta=0.005,\n",
    "    patience=10,\n",
    "    mode='min'\n",
    ")\n",
    "rlrop_callback = ReduceLROnPlateau(monitor='val_loss', factor=0.2, mode='min', patience=3, min_lr=0.005)"
   ]
  },
  {
   "cell_type": "code",
   "execution_count": 15,
   "metadata": {},
   "outputs": [
    {
     "name": "stdout",
     "output_type": "stream",
     "text": [
      "You must install pydot (`pip install pydot`) and install graphviz (see instructions at https://graphviz.gitlab.io/download/) for plot_model to work.\n",
      "Epoch 1/50\n"
     ]
    },
    {
     "name": "stderr",
     "output_type": "stream",
     "text": [
      "2023-01-13 22:45:59.866790: W tensorflow/core/platform/profile_utils/cpu_utils.cc:128] Failed to get CPU frequency: 0 Hz\n"
     ]
    },
    {
     "name": "stdout",
     "output_type": "stream",
     "text": [
      "872/872 [==============================] - 159s 179ms/step - loss: 0.0599 - val_loss: 0.0464 - lr: 0.0010\n",
      "Epoch 2/50\n",
      "872/872 [==============================] - 1170s 1s/step - loss: 0.0397 - val_loss: 0.0366 - lr: 0.0010\n",
      "Epoch 3/50\n",
      "872/872 [==============================] - 3026s 3s/step - loss: 0.0318 - val_loss: 0.0342 - lr: 0.0010\n",
      "Epoch 4/50\n",
      "872/872 [==============================] - 258s 296ms/step - loss: 0.0285 - val_loss: 0.0331 - lr: 0.0010\n",
      "Epoch 5/50\n",
      "872/872 [==============================] - 1126s 1s/step - loss: 0.0261 - val_loss: 0.0325 - lr: 0.0010\n",
      "Epoch 6/50\n",
      "872/872 [==============================] - 1543s 2s/step - loss: 0.0244 - val_loss: 0.0319 - lr: 0.0010\n",
      "Epoch 7/50\n",
      "872/872 [==============================] - 839s 963ms/step - loss: 0.0230 - val_loss: 0.0316 - lr: 0.0010\n",
      "Epoch 8/50\n",
      "872/872 [==============================] - 1038s 1s/step - loss: 0.0218 - val_loss: 0.0318 - lr: 0.0010\n",
      "Epoch 9/50\n",
      "872/872 [==============================] - 1038s 1s/step - loss: 0.0209 - val_loss: 0.0319 - lr: 0.0010\n",
      "Epoch 10/50\n",
      "872/872 [==============================] - 1038s 1s/step - loss: 0.0200 - val_loss: 0.0316 - lr: 0.0010\n",
      "Epoch 11/50\n",
      "872/872 [==============================] - 1038s 1s/step - loss: 0.0193 - val_loss: 0.0317 - lr: 0.0010\n",
      "Epoch 12/50\n",
      "872/872 [==============================] - 1037s 1s/step - loss: 0.0186 - val_loss: 0.0321 - lr: 0.0010\n",
      "Epoch 13/50\n",
      "872/872 [==============================] - 1760s 2s/step - loss: 0.0181 - val_loss: 0.0319 - lr: 0.0010\n",
      "Epoch 14/50\n",
      "872/872 [==============================] - 393s 451ms/step - loss: 0.0175 - val_loss: 0.0320 - lr: 0.0010\n",
      "Epoch 15/50\n",
      "872/872 [==============================] - 143s 163ms/step - loss: 0.0171 - val_loss: 0.0316 - lr: 0.0010\n",
      "Epoch 16/50\n",
      "872/872 [==============================] - 146s 167ms/step - loss: 0.0166 - val_loss: 0.0320 - lr: 0.0010\n",
      "Epoch 17/50\n",
      "872/872 [==============================] - 144s 165ms/step - loss: 0.0162 - val_loss: 0.0314 - lr: 0.0010\n",
      "mae: tf.Tensor(1.6142277, shape=(), dtype=float32)\n",
      "mse: tf.Tensor(6.877198, shape=(), dtype=float32)\n",
      "mape: tf.Tensor(76013480.0, shape=(), dtype=float32)\n"
     ]
    }
   ],
   "source": [
    "## Encoder-Decoder Model\n",
    "\n",
    "model_enc_dec = Sequential()\n",
    "model_enc_dec.add(LSTM(100, activation='tanh', input_shape=(LOOK_BACK, n_features)))\n",
    "model_enc_dec.add(RepeatVector(FORECAST_RANGE))\n",
    "model_enc_dec.add(LSTM(100, activation='tanh', return_sequences=True))\n",
    "model_enc_dec.add(TimeDistributed(Dense(n_features)))\n",
    "model_enc_dec.compile(optimizer='adam', loss='mse')\n",
    "\n",
    "plot_model(model=model_enc_dec, show_shapes=True)\n",
    "history = model_enc_dec.fit(X_train, y_train, epochs=epochs, batch_size=batch_size, validation_split=validation,callbacks=[early_stopping_callback, checkpoint_callback, rlrop_callback])\n",
    "yhat = model_enc_dec.predict(X_test, verbose=0)\n",
    "yhat_inverse, y_test_inverse = inverse_transform(y_test, yhat)\n",
    "evaluate_forecast(y_test_inverse, yhat_inverse)"
   ]
  },
  {
   "cell_type": "code",
   "execution_count": 16,
   "metadata": {},
   "outputs": [],
   "source": [
    "## CNN-LSTM Encoder - Decoder Model\n",
    "\n",
    "model_enc_dec_cnn = Sequential()\n",
    "model_enc_dec_cnn.add(Conv1D(filters=64, kernel_size=9, activation='tanh', input_shape=(LOOK_BACK, n_features)))\n",
    "model_enc_dec_cnn.add(Conv1D(filters=64, kernel_size=11, activation='tanh'))\n",
    "model_enc_dec_cnn.add(MaxPooling1D(pool_size=2))\n",
    "model_enc_dec_cnn.add(Flatten())\n",
    "model_enc_dec_cnn.add(RepeatVector(FORECAST_RANGE))\n",
    "model_enc_dec_cnn.add(LSTM(200, activation='tanh', return_sequences=True))\n",
    "model_enc_dec_cnn.add(TimeDistributed(Dense(100, activation='tanh')))\n",
    "model_enc_dec_cnn.add(TimeDistributed(Dense(n_features)))\n",
    "model_enc_dec_cnn.compile(loss='mse', optimizer='adam')"
   ]
  },
  {
   "cell_type": "code",
   "execution_count": 17,
   "metadata": {},
   "outputs": [],
   "source": [
    "## Vector Output Model\n",
    "\n",
    "input_layer = Input(shape=(LOOK_BACK, n_features)) \n",
    "conv = Conv1D(filters=4, kernel_size=7, activation='tanh')(input_layer)\n",
    "conv = Conv1D(filters=6, kernel_size=11, activation='tanh')(conv)\n",
    "lstm = LSTM(100, return_sequences=True, activation='tanh')(conv)\n",
    "dropout = Dropout(0.2)(lstm)\n",
    "lstm = LSTM(100, activation='tanh')(dropout)\n",
    "dense = Dense(FORECAST_RANGE*n_features, activation='tanh')(lstm)\n",
    "output_layer = Reshape((FORECAST_RANGE,n_features))(dense)\n",
    "model_vector_output = Model([input_layer], [output_layer])\n",
    "model_vector_output.compile(optimizer='adam', loss='mse')"
   ]
  },
  {
   "cell_type": "code",
   "execution_count": 18,
   "metadata": {},
   "outputs": [],
   "source": [
    "input_layer = Input(shape=(LOOK_BACK, n_features)) \n",
    "head_list = []\n",
    "for i in range(0, n_features):\n",
    "    conv_layer_head = Conv1D(filters=4, kernel_size=7, activation='tanh')(input_layer)\n",
    "    conv_layer_head_2 = Conv1D(filters=6, kernel_size=11, activation='tanh')(conv_layer_head)\n",
    "    conv_layer_flatten = Flatten()(conv_layer_head_2)\n",
    "    head_list.append(conv_layer_flatten)\n",
    " \n",
    "concat_cnn = Concatenate(axis=1)(head_list)\n",
    "reshape = Reshape((head_list[0].shape[1], n_features))(concat_cnn)\n",
    "lstm = LSTM(100, activation='tanh')(reshape)\n",
    "repeat = RepeatVector(FORECAST_RANGE)(lstm)\n",
    "lstm_2 = LSTM(100, activation='tanh', return_sequences=True)(repeat)\n",
    "dropout = Dropout(0.2)(lstm_2)\n",
    "dense = Dense(n_features, activation='linear')(dropout)\n",
    "multi_head_cnn_lstm_model = Model(inputs=input_layer, outputs=dense)"
   ]
  },
  {
   "cell_type": "code",
   "execution_count": 19,
   "metadata": {},
   "outputs": [
    {
     "data": {
      "text/plain": [
       "Text(0, 0.5, 'MAPE')"
      ]
     },
     "execution_count": 19,
     "metadata": {},
     "output_type": "execute_result"
    },
    {
     "data": {
      "image/png": "[encoded data removed]",
      "text/plain": [
       "<Figure size 640x480 with 1 Axes>"
      ]
     },
     "metadata": {},
     "output_type": "display_data"
    }
   ],
   "source": [
    "y_test_inverse_time_step = y_test_inverse.reshape(int(y_test_inverse.shape[0]/FORECAST_RANGE), FORECAST_RANGE, y_test_inverse.shape[-1])\n",
    "yhat_inverse_time_step = yhat_inverse.reshape(int(yhat_inverse.shape[0]/FORECAST_RANGE), FORECAST_RANGE, yhat_inverse.shape[-1])\n",
    "# yhat_inverse_time_step and y_test_inverse_time_step are both same dimension.\n",
    "time_step_list_yhat = [[] for i in range(FORECAST_RANGE)]\n",
    "time_step_list_y_test = [[] for i in range(FORECAST_RANGE)]\n",
    "for i in range(0, yhat_inverse_time_step.shape[0]):\n",
    " for j in range(0, yhat_inverse_time_step.shape[1]):\n",
    "    time_step_list_yhat[j].append(list(yhat_inverse_time_step[i][j]))\n",
    "    time_step_list_y_test[j].append(list(y_test_inverse_time_step[i][j]))\n",
    "yhat_time_step = np.array(time_step_list_yhat)\n",
    "yhat_time_step = yhat_time_step.reshape(yhat_time_step.shape[0], -1)\n",
    "y_test_time_step = np.array(time_step_list_y_test)\n",
    "y_test_time_step = y_test_time_step.reshape(y_test_time_step.shape[0], -1)\n",
    "# plotting\n",
    "mape_list = []\n",
    "for i in range(0, FORECAST_RANGE):\n",
    "    mape_ = tf.keras.losses.MeanAbsolutePercentageError()\n",
    "    mape = mape_(y_test_time_step[i], yhat_time_step[i])\n",
    "    mape_list.append(mape)\n",
    "plt.plot(range(0, FORECAST_RANGE), mape_list, marker='o')\n",
    "plt.xticks((range(0, FORECAST_RANGE)))\n",
    "plt.xlabel('Forecast Range')\n",
    "plt.ylabel('MAPE')"
   ]
  },
  {
   "cell_type": "code",
   "execution_count": 20,
   "metadata": {},
   "outputs": [
    {
     "name": "stdout",
     "output_type": "stream",
     "text": [
      "-> 0\n",
      "mae: tf.Tensor(0.15277961, shape=(), dtype=float32)\n",
      "mse: tf.Tensor(0.04898696, shape=(), dtype=float32)\n",
      "mape: tf.Tensor(2520461.2, shape=(), dtype=float32)\n",
      "-> 1\n",
      "mae: tf.Tensor(0.08267301, shape=(), dtype=float32)\n",
      "mse: tf.Tensor(0.015793359, shape=(), dtype=float32)\n",
      "mape: tf.Tensor(725824.4, shape=(), dtype=float32)\n",
      "-> 2\n",
      "mae: tf.Tensor(0.2997723, shape=(), dtype=float32)\n",
      "mse: tf.Tensor(0.23510893, shape=(), dtype=float32)\n",
      "mape: tf.Tensor(36037296.0, shape=(), dtype=float32)\n",
      "-> 3\n",
      "mae: tf.Tensor(0.13435116, shape=(), dtype=float32)\n",
      "mse: tf.Tensor(0.041132253, shape=(), dtype=float32)\n",
      "mape: tf.Tensor(12.976975, shape=(), dtype=float32)\n",
      "-> 4\n",
      "mae: tf.Tensor(0.5412522, shape=(), dtype=float32)\n",
      "mse: tf.Tensor(0.50703615, shape=(), dtype=float32)\n",
      "mape: tf.Tensor(36749764.0, shape=(), dtype=float32)\n",
      "-> 5\n",
      "mae: tf.Tensor(0.20693126, shape=(), dtype=float32)\n",
      "mse: tf.Tensor(0.118683696, shape=(), dtype=float32)\n",
      "mape: tf.Tensor(2384080.5, shape=(), dtype=float32)\n",
      "-> 6\n",
      "mae: tf.Tensor(0.79658014, shape=(), dtype=float32)\n",
      "mse: tf.Tensor(1.0808051, shape=(), dtype=float32)\n",
      "mape: tf.Tensor(43211484.0, shape=(), dtype=float32)\n",
      "-> 7\n",
      "mae: tf.Tensor(0.31174853, shape=(), dtype=float32)\n",
      "mse: tf.Tensor(0.28150788, shape=(), dtype=float32)\n",
      "mape: tf.Tensor(2096040.4, shape=(), dtype=float32)\n",
      "-> 8\n",
      "mae: tf.Tensor(0.9547698, shape=(), dtype=float32)\n",
      "mse: tf.Tensor(1.5594989, shape=(), dtype=float32)\n",
      "mape: tf.Tensor(33700828.0, shape=(), dtype=float32)\n",
      "-> 9\n",
      "mae: tf.Tensor(0.49428385, shape=(), dtype=float32)\n",
      "mse: tf.Tensor(0.63748044, shape=(), dtype=float32)\n",
      "mape: tf.Tensor(7494679.5, shape=(), dtype=float32)\n",
      "-> 10\n",
      "mae: tf.Tensor(1.1738713, shape=(), dtype=float32)\n",
      "mse: tf.Tensor(2.2579384, shape=(), dtype=float32)\n",
      "mape: tf.Tensor(39154868.0, shape=(), dtype=float32)\n",
      "-> 11\n",
      "mae: tf.Tensor(0.5858099, shape=(), dtype=float32)\n",
      "mse: tf.Tensor(0.95469624, shape=(), dtype=float32)\n",
      "mape: tf.Tensor(24677804.0, shape=(), dtype=float32)\n",
      "-> 12\n",
      "mae: tf.Tensor(1.2808353, shape=(), dtype=float32)\n",
      "mse: tf.Tensor(2.8089128, shape=(), dtype=float32)\n",
      "mape: tf.Tensor(49142692.0, shape=(), dtype=float32)\n",
      "-> 13\n",
      "mae: tf.Tensor(0.7826423, shape=(), dtype=float32)\n",
      "mse: tf.Tensor(1.5149751, shape=(), dtype=float32)\n",
      "mape: tf.Tensor(15193545.0, shape=(), dtype=float32)\n",
      "-> 14\n",
      "mae: tf.Tensor(1.554942, shape=(), dtype=float32)\n",
      "mse: tf.Tensor(3.9365954, shape=(), dtype=float32)\n",
      "mape: tf.Tensor(141094180.0, shape=(), dtype=float32)\n",
      "-> 15\n",
      "mae: tf.Tensor(0.9843246, shape=(), dtype=float32)\n",
      "mse: tf.Tensor(2.285129, shape=(), dtype=float32)\n",
      "mape: tf.Tensor(69133530.0, shape=(), dtype=float32)\n",
      "-> 16\n",
      "mae: tf.Tensor(1.6236098, shape=(), dtype=float32)\n",
      "mse: tf.Tensor(4.321336, shape=(), dtype=float32)\n",
      "mape: tf.Tensor(90561464.0, shape=(), dtype=float32)\n",
      "-> 17\n",
      "mae: tf.Tensor(1.2994629, shape=(), dtype=float32)\n",
      "mse: tf.Tensor(3.7525213, shape=(), dtype=float32)\n",
      "mape: tf.Tensor(78746376.0, shape=(), dtype=float32)\n",
      "-> 18\n",
      "mae: tf.Tensor(1.586283, shape=(), dtype=float32)\n",
      "mse: tf.Tensor(4.3789783, shape=(), dtype=float32)\n",
      "mape: tf.Tensor(89732740.0, shape=(), dtype=float32)\n",
      "-> 19\n",
      "mae: tf.Tensor(1.5693547, shape=(), dtype=float32)\n",
      "mse: tf.Tensor(4.7016225, shape=(), dtype=float32)\n",
      "mape: tf.Tensor(89328690.0, shape=(), dtype=float32)\n",
      "-> 20\n",
      "mae: tf.Tensor(1.6185342, shape=(), dtype=float32)\n",
      "mse: tf.Tensor(5.5768995, shape=(), dtype=float32)\n",
      "mape: tf.Tensor(39800520.0, shape=(), dtype=float32)\n",
      "-> 21\n",
      "mae: tf.Tensor(1.7302079, shape=(), dtype=float32)\n",
      "mse: tf.Tensor(6.081089, shape=(), dtype=float32)\n",
      "mape: tf.Tensor(96225580.0, shape=(), dtype=float32)\n",
      "-> 22\n",
      "mae: tf.Tensor(1.9094301, shape=(), dtype=float32)\n",
      "mse: tf.Tensor(8.354737, shape=(), dtype=float32)\n",
      "mape: tf.Tensor(61608132.0, shape=(), dtype=float32)\n",
      "-> 23\n",
      "mae: tf.Tensor(2.1312926, shape=(), dtype=float32)\n",
      "mse: tf.Tensor(7.98655, shape=(), dtype=float32)\n",
      "mape: tf.Tensor(129448900.0, shape=(), dtype=float32)\n",
      "-> 24\n",
      "mae: tf.Tensor(1.5448922, shape=(), dtype=float32)\n",
      "mse: tf.Tensor(5.553457, shape=(), dtype=float32)\n",
      "mape: tf.Tensor(52949388.0, shape=(), dtype=float32)\n",
      "-> 25\n",
      "mae: tf.Tensor(2.325657, shape=(), dtype=float32)\n",
      "mse: tf.Tensor(9.846049, shape=(), dtype=float32)\n",
      "mape: tf.Tensor(171375360.0, shape=(), dtype=float32)\n",
      "-> 26\n",
      "mae: tf.Tensor(1.9797862, shape=(), dtype=float32)\n",
      "mse: tf.Tensor(7.379056, shape=(), dtype=float32)\n",
      "mape: tf.Tensor(74508100.0, shape=(), dtype=float32)\n",
      "-> 27\n",
      "mae: tf.Tensor(1.9013251, shape=(), dtype=float32)\n",
      "mse: tf.Tensor(8.609008, shape=(), dtype=float32)\n",
      "mape: tf.Tensor(104903016.0, shape=(), dtype=float32)\n",
      "-> 28\n",
      "mae: tf.Tensor(2.4801676, shape=(), dtype=float32)\n",
      "mse: tf.Tensor(11.066624, shape=(), dtype=float32)\n",
      "mape: tf.Tensor(135510930.0, shape=(), dtype=float32)\n",
      "-> 29\n",
      "mae: tf.Tensor(2.4065487, shape=(), dtype=float32)\n",
      "mse: tf.Tensor(10.979041, shape=(), dtype=float32)\n",
      "mape: tf.Tensor(130275160.0, shape=(), dtype=float32)\n",
      "-> 30\n",
      "mae: tf.Tensor(3.0018013, shape=(), dtype=float32)\n",
      "mse: tf.Tensor(17.976984, shape=(), dtype=float32)\n",
      "mape: tf.Tensor(117459870.0, shape=(), dtype=float32)\n",
      "-> 31\n",
      "mae: tf.Tensor(2.2406132, shape=(), dtype=float32)\n",
      "mse: tf.Tensor(11.850914, shape=(), dtype=float32)\n",
      "mape: tf.Tensor(99917650.0, shape=(), dtype=float32)\n",
      "-> 32\n",
      "mae: tf.Tensor(2.6249917, shape=(), dtype=float32)\n",
      "mse: tf.Tensor(13.757255, shape=(), dtype=float32)\n",
      "mape: tf.Tensor(90929650.0, shape=(), dtype=float32)\n",
      "-> 33\n",
      "mae: tf.Tensor(2.2136226, shape=(), dtype=float32)\n",
      "mse: tf.Tensor(11.170414, shape=(), dtype=float32)\n",
      "mape: tf.Tensor(167302940.0, shape=(), dtype=float32)\n",
      "-> 34\n",
      "mae: tf.Tensor(2.9764237, shape=(), dtype=float32)\n",
      "mse: tf.Tensor(16.66286, shape=(), dtype=float32)\n",
      "mape: tf.Tensor(86722710.0, shape=(), dtype=float32)\n",
      "-> 35\n",
      "mae: tf.Tensor(2.918812, shape=(), dtype=float32)\n",
      "mse: tf.Tensor(15.194545, shape=(), dtype=float32)\n",
      "mape: tf.Tensor(112608070.0, shape=(), dtype=float32)\n",
      "-> 36\n",
      "mae: tf.Tensor(3.4598958, shape=(), dtype=float32)\n",
      "mse: tf.Tensor(22.593683, shape=(), dtype=float32)\n",
      "mape: tf.Tensor(176373060.0, shape=(), dtype=float32)\n",
      "-> 37\n",
      "mae: tf.Tensor(2.515923, shape=(), dtype=float32)\n",
      "mse: tf.Tensor(12.970948, shape=(), dtype=float32)\n",
      "mape: tf.Tensor(138551230.0, shape=(), dtype=float32)\n",
      "-> 38\n",
      "mae: tf.Tensor(2.9141572, shape=(), dtype=float32)\n",
      "mse: tf.Tensor(16.327686, shape=(), dtype=float32)\n",
      "mape: tf.Tensor(110250160.0, shape=(), dtype=float32)\n",
      "-> 39\n",
      "mae: tf.Tensor(3.2587411, shape=(), dtype=float32)\n",
      "mse: tf.Tensor(19.71138, shape=(), dtype=float32)\n",
      "mape: tf.Tensor(92132240.0, shape=(), dtype=float32)\n"
     ]
    }
   ],
   "source": [
    "for i in range(0, n_features):\n",
    "    print('->', i)\n",
    "    mse_ = tf.keras.losses.MeanSquaredError()\n",
    "    mae_ = tf.keras.losses.MeanAbsoluteError()\n",
    "    mape_ = tf.keras.losses.MeanAbsolutePercentageError()\n",
    "    mae = mae_(y_test_inverse[:,i],yhat_inverse[:,i])\n",
    "    print('mae:', mae)\n",
    "    mse = mse_(y_test_inverse[:,i],yhat_inverse[:,i])\n",
    "    print('mse:', mse)\n",
    "    mape = mape_(y_test_inverse[:,i],yhat_inverse[:,i])\n",
    "    print('mape:', mape)"
   ]
  },
  {
   "cell_type": "code",
   "execution_count": 21,
   "metadata": {},
   "outputs": [],
   "source": [
    "# This code looks like it's implementing a neural network for forecasting power consumption using an LSTM (Long Short-Term Memory) network. LSTM networks are a type of recurrent neural network (RNN) that are well-suited for time series forecasting tasks because they are able to capture long-term dependencies in data.\n",
    "\n",
    "# Overall, the code seems to be implementing a standard process for training and evaluating an LSTM-based time series forecasting model:\n",
    "\n",
    "# The data is loaded and preprocessed, including splitting it into training and test sets and scaling the features using the MinMaxScaler.\n",
    "\n",
    "# The data is transformed into input/output sequences for the LSTM model using the \"split_sequence\" function.\n",
    "\n",
    "# The LSTM model is defined and compiled using the Keras API.\n",
    "\n",
    "# The model is fit on the training data using the \"fit\" method.\n",
    "\n",
    "# The model is evaluated on the test data using the \"evaluate_forecast\" function, which computes mean absolute error (MAE), mean squared error (MSE), and mean absolute percentage error (MAPE)."
   ]
  },
  {
   "cell_type": "code",
   "execution_count": 22,
   "metadata": {},
   "outputs": [],
   "source": [
    "# There are a few things that you could consider doing to improve the performance of this model:\n",
    "\n",
    "# Increase the size of the training data. More data can often improve the accuracy of the model.\n",
    "\n",
    "# Tune the model hyperparameters. There are a number of parameters that you can adjust in an LSTM model, such as the number of hidden units, the type of activation function, and the learning rate. You may be able to improve the model's performance by finding the optimal values for these parameters.\n",
    "\n",
    "# Use regularization techniques. Overfitting is a common problem in neural network models, especially when working with small datasets. You can try adding dropout layers or weight regularization to the model to reduce overfitting and improve generalization.\n",
    "\n",
    "# Experiment with different model architectures. There are many different ways to design an LSTM model, and different architectures may work better for different types of data. You can try adding additional layers or changing the number of hidden units to see if it improves the model's performance.\n",
    "\n",
    "# Consider using a different type of model. While LSTMs are very effective for time series forecasting, they may not always be the best choice. Other types of models, such as Facebook Prophet or seasonal decomposition models, may work better for your specific problem.\n",
    "\n",
    "# I hope these suggestions are helpful! Let me know if you have any questions or if you'd like further guidance."
   ]
  },
  {
   "cell_type": "code",
   "execution_count": 23,
   "metadata": {},
   "outputs": [],
   "source": [
    "def create_model(units, dropout_rate):\n",
    "  model = Sequential()\n",
    "  # Add layers to your model here\n",
    "  model.add(Dense(units, input_shape=input_shape))\n",
    "  model.add(Dropout(dropout_rate))\n",
    "  # Add more layers as needed\n",
    "  model.compile(loss='mean_squared_error', optimizer='adam')\n",
    "  return model"
   ]
  },
  {
   "cell_type": "code",
   "execution_count": 24,
   "metadata": {},
   "outputs": [
    {
     "name": "stdout",
     "output_type": "stream",
     "text": [
      "Fitting 3 folds for each of 81 candidates, totalling 243 fits\n"
     ]
    },
    {
     "name": "stderr",
     "output_type": "stream",
     "text": [
      "/var/folders/5v/snpvy65x6rx4rzv00_hsqsq80000gn/T/ipykernel_90715/2555976658.py:10: DeprecationWarning: KerasRegressor is deprecated, use Sci-Keras (https://github.com/adriangb/scikeras) instead. See https://www.adriangb.com/scikeras/stable/migration.html for help migrating.\n",
      "  model = KerasRegressor(build_fn=create_model, verbose=0)\n"
     ]
    }
   ],
   "source": [
    "from sklearn.model_selection import GridSearchCV\n",
    "from keras.wrappers.scikit_learn import KerasRegressor\n",
    "from joblib import Parallel, delayed\n",
    "# from scikeras.wrappers import KerasRegressor\n",
    "\n",
    "# Define the input shape\n",
    "input_shape = (LOOK_BACK, n_features)\n",
    "\n",
    "# Create the model\n",
    "model = KerasRegressor(build_fn=create_model, verbose=0)\n",
    "\n",
    "# Define the parameter grid\n",
    "# param_grid = {\n",
    "#     'batch_size': [16, 32, 64, 128, 256, 512],\n",
    "#     'epochs': [10, 20, 30, 40, 50, 100, 200],\n",
    "#     'units': [16, 32, 64, 128, 256, 512],\n",
    "#     'dropout_rate': [0.1, 0.2, 0.3, 0.4, 0.5, 0.6]\n",
    "# }\n",
    "\n",
    "param_grid = {\n",
    "    'batch_size': [16, 32, 64],\n",
    "    'epochs': [10, 20, 30],\n",
    "    'units': [16, 32, 64],\n",
    "    'dropout_rate': [0.2, 0.3, 0.4]\n",
    "}\n",
    "\n",
    "# Create the grid search object\n",
    "grid_search = GridSearchCV(estimator=model, param_grid=param_grid, cv=3, n_jobs=-1, verbose=1)\n",
    "\n",
    "# grid_search = GridSearchCV(estimator=model, param_grid=param_grid, cv=3, n_jobs=1, verbose=1, pre_dispatch='2*n_jobs')\n",
    "\n",
    "# Parallelize the grid search\n",
    "# results = Parallel(n_jobs=-1, verbose=1)(delayed(grid_search.fit)(X_train, y_train) for i in range(num_repeats))\n",
    "\n",
    "# Fit the grid search to the data\n",
    "grid_search.fit(X_train, y_train)\n",
    "\n",
    "# Print the best hyperparameters\n",
    "print('Best hyperparameters:', grid_search.best_params_)\n",
    "\n",
    "# Evaluate the model with the best hyperparameters on the test data\n",
    "best_model = grid_search.best_estimator_\n",
    "yhat = best_model.predict(X_test)\n",
    "y_test_inverse = scaler.inverse_transform(y_test)\n",
    "yhat_inverse = scaler.inverse_transform(yhat)\n",
    "evaluate_forecast(y_test_inverse, yhat_inverse)"
   ]
  },
  {
   "cell_type": "code",
   "execution_count": null,
   "metadata": {},
   "outputs": [],
   "source": []
  }
 ],
 "metadata": {
  "kernelspec": {
   "display_name": "Python 3",
   "language": "python",
   "name": "python3"
  },
  "language_info": {
   "codemirror_mode": {
    "name": "ipython",
    "version": 3
   },
   "file_extension": ".py",
   "mimetype": "text/x-python",
   "name": "python",
   "nbconvert_exporter": "python",
   "pygments_lexer": "ipython3",
   "version": "3.10.0"
  },
  "orig_nbformat": 4,
  "vscode": {
   "interpreter": {
    "hash": "aee8b7b246df8f9039afb4144a1f6fd8d2ca17a180786b69acc140d282b71a49"
   }
  }
 },
 "nbformat": 4,
 "nbformat_minor": 2
}
