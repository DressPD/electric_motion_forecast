{
 "cells": [
  {
   "cell_type": "code",
   "execution_count": 1,
   "metadata": {},
   "outputs": [],
   "source": [
    "import pandas as pd\n",
    "import seaborn as sns\n",
    "import copy\n",
    "sns.set(rc={'figure.figsize':(20,10)})"
   ]
  },
  {
   "cell_type": "code",
   "execution_count": 3,
   "metadata": {},
   "outputs": [],
   "source": [
    "data_hor_disc = pd.read_excel(\"Data/DiscreteMotion_Data_Horizontalsetup.xlsx\", sheet_name = \"Sheet1\")\n",
    "data_hor_cont = pd.read_excel(\"Data/ContinuousMotion_Data_Horizontalsetup.xlsx\", sheet_name = \"Sheet1\")\n",
    "data_ver_disc = pd.read_excel(\"Data/DiscreteMotion_Data_Verticalsetup.xlsx\", sheet_name = \"Tabelle1\")\n",
    "data_ver_cont = pd.read_excel(\"Data/ContinuousMotion_Data_Verticalsetup.xlsx\", sheet_name = \"Tabelle1\")"
   ]
  },
  {
   "cell_type": "code",
   "execution_count": 6,
   "metadata": {},
   "outputs": [
    {
     "data": {
      "text/plain": [
       "Index(['Pow_100', 'Pow_200', 'Pow_300', 'Pow_400', 'Pow_500', 'Pow_600',\n",
       "       'Pow_700', 'Pow_800', 'Pow_900', 'Pow_1000', 'Pow_1100', 'Pow_1200',\n",
       "       'Pow_1300', 'Pow_1400', 'Pow_1500', 'Pow_1600', 'Pow_1700', 'Pow_1800',\n",
       "       'Pow_1900', 'Pow_2000'],\n",
       "      dtype='object')"
      ]
     },
     "execution_count": 6,
     "metadata": {},
     "output_type": "execute_result"
    }
   ],
   "source": [
    "data_hor_cont.columns"
   ]
  },
  {
   "cell_type": "code",
   "execution_count": 2,
   "metadata": {},
   "outputs": [],
   "source": [
    "from tensorflow.keras import Sequential\n",
    "from tensorflow.keras.layers import LSTM, Dense, Dropout, TimeDistributed, Conv1D, MaxPooling1D, Flatten, Bidirectional, Input, Flatten, Activation, Reshape, RepeatVector, Concatenate\n",
    "from tensorflow.keras.models import Model\n",
    "from tensorflow.keras.utils import plot_model\n",
    "from tensorflow.keras.callbacks import EarlyStopping, ReduceLROnPlateau, ModelCheckpoint"
   ]
  }
 ],
 "metadata": {
  "kernelspec": {
   "display_name": "Python 3.10.0 64-bit",
   "language": "python",
   "name": "python3"
  },
  "language_info": {
   "codemirror_mode": {
    "name": "ipython",
    "version": 3
   },
   "file_extension": ".py",
   "mimetype": "text/x-python",
   "name": "python",
   "nbconvert_exporter": "python",
   "pygments_lexer": "ipython3",
   "version": "3.10.0"
  },
  "orig_nbformat": 4,
  "vscode": {
   "interpreter": {
    "hash": "aee8b7b246df8f9039afb4144a1f6fd8d2ca17a180786b69acc140d282b71a49"
   }
  }
 },
 "nbformat": 4,
 "nbformat_minor": 2
}
