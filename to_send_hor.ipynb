{
 "cells": [
  {
   "cell_type": "code",
   "execution_count": 5,
   "metadata": {},
   "outputs": [],
   "source": [
    "# basic libraries needed\n",
    "import pandas as pd\n",
    "import seaborn as sns\n",
    "import numpy as np\n",
    "import matplotlib.pyplot as plt\n",
    "import copy\n",
    "import tensorflow as tf\n",
    "import keras.api._v2.keras as keras\n",
    "from keras import Sequential\n",
    "from keras.layers import LSTM, Dense, Dropout, TimeDistributed, Conv1D, MaxPooling1D, Flatten, Bidirectional, Input, Flatten, Activation, Reshape, RepeatVector, Concatenate\n",
    "from keras.models import Model\n",
    "from keras.utils import plot_model\n",
    "from keras.callbacks import EarlyStopping, ReduceLROnPlateau, ModelCheckpoint\n",
    "from sklearn.model_selection import train_test_split\n",
    "from sklearn.metrics import mean_squared_error\n",
    "from math import sqrt\n",
    "from numpy import array"
   ]
  },
  {
   "cell_type": "code",
   "execution_count": 6,
   "metadata": {},
   "outputs": [],
   "source": [
    "data_hor=pd.read_csv(\"Data/combined_data_hor.csv\")\n",
    "data_hor = data_hor.drop('Unnamed: 0', axis=1)"
   ]
  },
  {
   "cell_type": "code",
   "execution_count": 7,
   "metadata": {},
   "outputs": [],
   "source": [
    "from sklearn.preprocessing import MinMaxScaler\n",
    "power_list = [i for i in data_hor.columns]\n",
    "scaler = MinMaxScaler()\n",
    "\n",
    "perc=0.95\n",
    "\n",
    "train_size = int(len(data_hor) * perc)\n",
    "test_size = len(data_hor) - train_size\n",
    "df_train = data_hor[0:train_size]\n",
    "df_test = data_hor[train_size:len(data_hor)]\n",
    "\n",
    "# scaled_train = scaler.fit_transform(df_train[power_list])\n",
    "# scaled_test = scaler.transform(df_test[power_list])\n",
    "\n",
    "scaled_train_and_test = scaler.fit_transform(data_hor[power_list])\n",
    "scaled_train = scaled_train_and_test[0:train_size]\n",
    "scaled_test = scaled_train_and_test[train_size:len(data_hor)]"
   ]
  },
  {
   "cell_type": "code",
   "execution_count": 8,
   "metadata": {},
   "outputs": [
    {
     "name": "stdout",
     "output_type": "stream",
     "text": [
      "['Pow_100_disc', 'Pow_100_cont', 'Pow_200_disc', 'Pow_200_cont', 'Pow_300_disc', 'Pow_300_cont', 'Pow_400_disc', 'Pow_400_cont', 'Pow_500_disc', 'Pow_500_cont', 'Pow_600_disc', 'Pow_600_cont', 'Pow_700_disc', 'Pow_700_cont', 'Pow_800_disc', 'Pow_800_cont', 'Pow_900_disc', 'Pow_900_cont', 'Pow_1000_disc', 'Pow_1000_cont', 'Pow_1100_disc', 'Pow_1100_cont', 'Pow_1200_disc', 'Pow_1200_cont', 'Pow_1300_disc', 'Pow_1300_cont', 'Pow_1400_disc', 'Pow_1400_cont', 'Pow_1500_disc', 'Pow_1500_cont', 'Pow_1600_disc', 'Pow_1600_cont', 'Pow_1700_disc', 'Pow_1700_cont', 'Pow_1800_disc', 'Pow_1800_cont', 'Pow_1900_disc', 'Pow_1900_cont', 'Pow_2000_disc', 'Pow_2000_cont']\n"
     ]
    }
   ],
   "source": [
    "print(power_list)"
   ]
  },
  {
   "cell_type": "code",
   "execution_count": 9,
   "metadata": {},
   "outputs": [],
   "source": [
    "def split_sequence(sequence, look_back, forecast_horizon):\n",
    "    X, y = list(), list()\n",
    "    for i in range(len(sequence)): \n",
    "        lag_end = i + look_back\n",
    "        forecast_end = lag_end + forecast_horizon\n",
    "        if forecast_end > len(sequence):\n",
    "            break\n",
    "        seq_x, seq_y = sequence[i:lag_end], sequence[lag_end:forecast_end]\n",
    "        X.append(seq_x)\n",
    "        y.append(seq_y)\n",
    "        \n",
    "    return np.array(X), np.array(y)"
   ]
  },
  {
   "cell_type": "code",
   "execution_count": 10,
   "metadata": {},
   "outputs": [],
   "source": [
    "def evaluate_forecast(y_test_inverse, yhat_inverse):\n",
    "    mse_ = tf.keras.losses.MeanSquaredError()\n",
    "    mae_ = tf.keras.losses.MeanAbsoluteError()\n",
    "    mape_ = tf.keras.losses.MeanAbsolutePercentageError()\n",
    "    mae = mae_(y_test_inverse,yhat_inverse)\n",
    "    print('mae:', mae)\n",
    "    mse = mse_(y_test_inverse,yhat_inverse)\n",
    "    print('mse:', mse)\n",
    "    mape = mape_(y_test_inverse,yhat_inverse)\n",
    "    print('mape:', mape)"
   ]
  },
  {
   "cell_type": "code",
   "execution_count": 11,
   "metadata": {},
   "outputs": [
    {
     "name": "stdout",
     "output_type": "stream",
     "text": [
      "(41631, 1100, 40)\n",
      "(41631, 20, 40)\n",
      "(1131, 1100, 40)\n",
      "(1131, 20, 40)\n"
     ]
    }
   ],
   "source": [
    "LOOK_BACK=1100\n",
    "FORECAST_RANGE=20\n",
    "\n",
    "## making the look_back according to the main frequency since the data are kindly periodic\n",
    "\n",
    "n_features=len(power_list)\n",
    "\n",
    "X_train, y_train = split_sequence(scaled_train, look_back=LOOK_BACK, forecast_horizon=FORECAST_RANGE)\n",
    "X_test, y_test = split_sequence(scaled_test, look_back=LOOK_BACK, forecast_horizon=FORECAST_RANGE)\n",
    "print(X_train.shape)\n",
    "print(y_train.shape)\n",
    "print(X_test.shape)\n",
    "print(y_test.shape)"
   ]
  },
  {
   "cell_type": "code",
   "execution_count": 12,
   "metadata": {},
   "outputs": [],
   "source": [
    "def inverse_transform(y_test, yhat):\n",
    "    y_test_reshaped = y_test.reshape(-1, y_test.shape[-1])\n",
    "    yhat_reshaped = yhat.reshape(-1, yhat.shape[-1])\n",
    "    yhat_inverse = scaler.inverse_transform(yhat_reshaped)\n",
    "    y_test_inverse = scaler.inverse_transform(y_test_reshaped)\n",
    "    return yhat_inverse, y_test_inverse"
   ]
  },
  {
   "cell_type": "code",
   "execution_count": 13,
   "metadata": {},
   "outputs": [],
   "source": [
    "epochs = 50\n",
    "batch_size = 32\n",
    "validation = 0.1"
   ]
  },
  {
   "cell_type": "code",
   "execution_count": 14,
   "metadata": {},
   "outputs": [],
   "source": [
    "checkpoint_filepath = 'test/weights-improvement-{epoch:06d}-{val_loss:.6f}.hdf5'\n",
    "checkpoint_callback = ModelCheckpoint(\n",
    "    filepath=checkpoint_filepath,\n",
    "    save_weights_only=False,\n",
    "    monitor='val_loss',\n",
    "    mode='min',\n",
    "    save_best_only=True)\n",
    "early_stopping_callback = EarlyStopping(\n",
    "    monitor='val_loss',\n",
    "    min_delta=0.005,\n",
    "    patience=10,\n",
    "    mode='min'\n",
    ")\n",
    "rlrop_callback = ReduceLROnPlateau(monitor='val_loss', factor=0.2, mode='min', patience=3, min_lr=0.005)"
   ]
  },
  {
   "cell_type": "code",
   "execution_count": 10,
   "metadata": {},
   "outputs": [
    {
     "name": "stdout",
     "output_type": "stream",
     "text": [
      "You must install pydot (`pip install pydot`) and install graphviz (see instructions at https://graphviz.gitlab.io/download/) for plot_model to work.\n",
      "Epoch 1/50\n"
     ]
    },
    {
     "name": "stderr",
     "output_type": "stream",
     "text": [
      "2023-01-23 22:23:52.136090: W tensorflow/core/platform/profile_utils/cpu_utils.cc:128] Failed to get CPU frequency: 0 Hz\n"
     ]
    },
    {
     "name": "stdout",
     "output_type": "stream",
     "text": [
      "1171/1171 [==============================] - 5597s 5s/step - loss: 0.0675 - val_loss: 0.0633 - lr: 0.0010\n",
      "Epoch 2/50\n",
      "1171/1171 [==============================] - 14414s 12s/step - loss: 0.0665 - val_loss: 0.0638 - lr: 0.0010\n",
      "Epoch 3/50\n",
      "1171/1171 [==============================] - 13878s 12s/step - loss: 0.0664 - val_loss: 0.0657 - lr: 0.0010\n",
      "Epoch 4/50\n",
      "1171/1171 [==============================] - 9260s 8s/step - loss: 0.0662 - val_loss: 0.0632 - lr: 0.0010\n",
      "Epoch 5/50\n",
      "1171/1171 [==============================] - 17750s 15s/step - loss: 0.0660 - val_loss: 0.0632 - lr: 0.0010\n",
      "Epoch 6/50\n",
      "1171/1171 [==============================] - 16333s 14s/step - loss: 0.0659 - val_loss: 0.0631 - lr: 0.0010\n",
      "Epoch 7/50\n",
      "1171/1171 [==============================] - 10313s 9s/step - loss: 0.0658 - val_loss: 0.0631 - lr: 0.0010\n",
      "Epoch 8/50\n",
      "1171/1171 [==============================] - 1120s 956ms/step - loss: 0.0658 - val_loss: 0.0630 - lr: 0.0010\n",
      "Epoch 9/50\n",
      "1171/1171 [==============================] - 1058s 903ms/step - loss: 0.0658 - val_loss: 0.0630 - lr: 0.0010\n",
      "Epoch 10/50\n",
      "1171/1171 [==============================] - 9007s 8s/step - loss: 0.0658 - val_loss: 0.0631 - lr: 0.0010\n",
      "Epoch 11/50\n",
      "1171/1171 [==============================] - 17988s 15s/step - loss: 0.0658 - val_loss: 0.0632 - lr: 0.0010\n",
      "mae: tf.Tensor(2.6295283, shape=(), dtype=float32)\n",
      "mse: tf.Tensor(15.014582, shape=(), dtype=float32)\n",
      "mape: tf.Tensor(228626750.0, shape=(), dtype=float32)\n"
     ]
    }
   ],
   "source": [
    "## CNN-LSTM Encoder - Decoder Model\n",
    "\n",
    "model_enc_dec_cnn = Sequential()\n",
    "model_enc_dec_cnn.add(Conv1D(filters=64, kernel_size=9, activation='tanh', input_shape=(LOOK_BACK, n_features)))\n",
    "model_enc_dec_cnn.add(Conv1D(filters=64, kernel_size=11, activation='tanh'))\n",
    "model_enc_dec_cnn.add(MaxPooling1D(pool_size=2))\n",
    "model_enc_dec_cnn.add(Flatten())\n",
    "model_enc_dec_cnn.add(RepeatVector(FORECAST_RANGE))\n",
    "model_enc_dec_cnn.add(LSTM(200, activation='tanh', return_sequences=True))\n",
    "model_enc_dec_cnn.add(TimeDistributed(Dense(100, activation='tanh')))\n",
    "model_enc_dec_cnn.add(TimeDistributed(Dense(n_features)))\n",
    "model_enc_dec_cnn.compile(loss='mse', optimizer='adam')\n",
    "\n",
    "plot_model(model=model_enc_dec_cnn, show_shapes=True)\n",
    "history = model_enc_dec_cnn.fit(X_train, y_train, epochs=epochs, batch_size=batch_size, validation_split=validation,callbacks=[early_stopping_callback, checkpoint_callback, rlrop_callback])\n",
    "yhat = model_enc_dec_cnn.predict(X_test, verbose=0)\n",
    "yhat_inverse, y_test_inverse = inverse_transform(y_test, yhat)\n",
    "evaluate_forecast(y_test_inverse, yhat_inverse)"
   ]
  },
  {
   "cell_type": "code",
   "execution_count": 11,
   "metadata": {},
   "outputs": [],
   "source": [
    "input_layer = Input(shape=(LOOK_BACK, n_features)) \n",
    "head_list = []\n",
    "for i in range(0, n_features):\n",
    "    conv_layer_head = Conv1D(filters=4, kernel_size=7, activation='tanh')(input_layer)\n",
    "    conv_layer_head_2 = Conv1D(filters=6, kernel_size=11, activation='tanh')(conv_layer_head)\n",
    "    conv_layer_flatten = Flatten()(conv_layer_head_2)\n",
    "    head_list.append(conv_layer_flatten)\n",
    " \n",
    "concat_cnn = Concatenate(axis=1)(head_list)\n",
    "reshape = Reshape((head_list[0].shape[1], n_features))(concat_cnn)\n",
    "lstm = LSTM(100, activation='tanh')(reshape)\n",
    "repeat = RepeatVector(FORECAST_RANGE)(lstm)\n",
    "lstm_2 = LSTM(100, activation='tanh', return_sequences=True)(repeat)\n",
    "dropout = Dropout(0.2)(lstm_2)\n",
    "dense = Dense(n_features, activation='linear')(dropout)\n",
    "multi_head_cnn_lstm_model = Model(inputs=input_layer, outputs=dense)"
   ]
  },
  {
   "cell_type": "code",
   "execution_count": 12,
   "metadata": {},
   "outputs": [
    {
     "data": {
      "text/plain": [
       "Text(0, 0.5, 'MAPE')"
      ]
     },
     "execution_count": 12,
     "metadata": {},
     "output_type": "execute_result"
    },
    {
     "data": {
      "image/png": "[encoded data removed]",
      "text/plain": [
       "<Figure size 640x480 with 1 Axes>"
      ]
     },
     "metadata": {},
     "output_type": "display_data"
    }
   ],
   "source": [
    "y_test_inverse_time_step = y_test_inverse.reshape(int(y_test_inverse.shape[0]/FORECAST_RANGE), FORECAST_RANGE, y_test_inverse.shape[-1])\n",
    "yhat_inverse_time_step = yhat_inverse.reshape(int(yhat_inverse.shape[0]/FORECAST_RANGE), FORECAST_RANGE, yhat_inverse.shape[-1])\n",
    "# yhat_inverse_time_step and y_test_inverse_time_step are both same dimension.\n",
    "time_step_list_yhat = [[] for i in range(FORECAST_RANGE)]\n",
    "time_step_list_y_test = [[] for i in range(FORECAST_RANGE)]\n",
    "for i in range(0, yhat_inverse_time_step.shape[0]):\n",
    " for j in range(0, yhat_inverse_time_step.shape[1]):\n",
    "    time_step_list_yhat[j].append(list(yhat_inverse_time_step[i][j]))\n",
    "    time_step_list_y_test[j].append(list(y_test_inverse_time_step[i][j]))\n",
    "yhat_time_step = np.array(time_step_list_yhat)\n",
    "yhat_time_step = yhat_time_step.reshape(yhat_time_step.shape[0], -1)\n",
    "y_test_time_step = np.array(time_step_list_y_test)\n",
    "y_test_time_step = y_test_time_step.reshape(y_test_time_step.shape[0], -1)\n",
    "# plotting\n",
    "mape_list = []\n",
    "for i in range(0, FORECAST_RANGE):\n",
    "    mape_ = tf.keras.losses.MeanAbsolutePercentageError()\n",
    "    mape = mape_(y_test_time_step[i], yhat_time_step[i])\n",
    "    mape_list.append(mape)\n",
    "plt.plot(range(0, FORECAST_RANGE), mape_list, marker='o')\n",
    "plt.xticks((range(0, FORECAST_RANGE)))\n",
    "plt.xlabel('Forecast Range')\n",
    "plt.ylabel('MAPE')"
   ]
  },
  {
   "cell_type": "code",
   "execution_count": 13,
   "metadata": {},
   "outputs": [
    {
     "data": {
      "text/plain": [
       "Text(0, 0.5, 'MAE')"
      ]
     },
     "execution_count": 13,
     "metadata": {},
     "output_type": "execute_result"
    },
    {
     "data": {
      "image/png": "[encoded data removed]",
      "text/plain": [
       "<Figure size 640x480 with 1 Axes>"
      ]
     },
     "metadata": {},
     "output_type": "display_data"
    }
   ],
   "source": [
    "y_test_inverse_time_step = y_test_inverse.reshape(int(y_test_inverse.shape[0]/FORECAST_RANGE), FORECAST_RANGE, y_test_inverse.shape[-1])\n",
    "yhat_inverse_time_step = yhat_inverse.reshape(int(yhat_inverse.shape[0]/FORECAST_RANGE), FORECAST_RANGE, yhat_inverse.shape[-1])\n",
    "# yhat_inverse_time_step and y_test_inverse_time_step are both same dimension.\n",
    "time_step_list_yhat = [[] for i in range(FORECAST_RANGE)]\n",
    "time_step_list_y_test = [[] for i in range(FORECAST_RANGE)]\n",
    "for i in range(0, yhat_inverse_time_step.shape[0]):\n",
    " for j in range(0, yhat_inverse_time_step.shape[1]):\n",
    "    time_step_list_yhat[j].append(list(yhat_inverse_time_step[i][j]))\n",
    "    time_step_list_y_test[j].append(list(y_test_inverse_time_step[i][j]))\n",
    "yhat_time_step = np.array(time_step_list_yhat)\n",
    "yhat_time_step = yhat_time_step.reshape(yhat_time_step.shape[0], -1)\n",
    "y_test_time_step = np.array(time_step_list_y_test)\n",
    "y_test_time_step = y_test_time_step.reshape(y_test_time_step.shape[0], -1)\n",
    "# plotting\n",
    "mae_list = []\n",
    "for i in range(0, FORECAST_RANGE):\n",
    "    mae_ = tf.keras.losses.MeanAbsoluteError()\n",
    "    mae = mae_(y_test_time_step[i], yhat_time_step[i])\n",
    "    mae_list.append(mae)\n",
    "plt.plot(range(0, FORECAST_RANGE), mae_list, marker='o')\n",
    "plt.xticks((range(0, FORECAST_RANGE)))\n",
    "plt.xlabel('Forecast Range')\n",
    "plt.ylabel('MAE')"
   ]
  },
  {
   "cell_type": "code",
   "execution_count": 14,
   "metadata": {},
   "outputs": [
    {
     "name": "stdout",
     "output_type": "stream",
     "text": [
      "-> 0\n",
      "mae: tf.Tensor(0.14717995, shape=(), dtype=float32)\n",
      "mse: tf.Tensor(0.0670974, shape=(), dtype=float32)\n",
      "mape: tf.Tensor(84.952835, shape=(), dtype=float32)\n",
      "-> 1\n",
      "mae: tf.Tensor(0.058041885, shape=(), dtype=float32)\n",
      "mse: tf.Tensor(0.009425506, shape=(), dtype=float32)\n",
      "mape: tf.Tensor(6.809847, shape=(), dtype=float32)\n",
      "-> 2\n",
      "mae: tf.Tensor(0.4773757, shape=(), dtype=float32)\n",
      "mse: tf.Tensor(0.3437184, shape=(), dtype=float32)\n",
      "mape: tf.Tensor(44043028.0, shape=(), dtype=float32)\n",
      "-> 3\n",
      "mae: tf.Tensor(0.120049655, shape=(), dtype=float32)\n",
      "mse: tf.Tensor(0.036407642, shape=(), dtype=float32)\n",
      "mape: tf.Tensor(11.602614, shape=(), dtype=float32)\n",
      "-> 4\n",
      "mae: tf.Tensor(0.8288729, shape=(), dtype=float32)\n",
      "mse: tf.Tensor(0.8701032, shape=(), dtype=float32)\n",
      "mape: tf.Tensor(124517380.0, shape=(), dtype=float32)\n",
      "-> 5\n",
      "mae: tf.Tensor(0.13711943, shape=(), dtype=float32)\n",
      "mse: tf.Tensor(0.054618467, shape=(), dtype=float32)\n",
      "mape: tf.Tensor(12.859252, shape=(), dtype=float32)\n",
      "-> 6\n",
      "mae: tf.Tensor(1.1010921, shape=(), dtype=float32)\n",
      "mse: tf.Tensor(1.6538107, shape=(), dtype=float32)\n",
      "mape: tf.Tensor(224839300.0, shape=(), dtype=float32)\n",
      "-> 7\n",
      "mae: tf.Tensor(0.25747305, shape=(), dtype=float32)\n",
      "mse: tf.Tensor(0.29234365, shape=(), dtype=float32)\n",
      "mape: tf.Tensor(114.12976, shape=(), dtype=float32)\n",
      "-> 8\n",
      "mae: tf.Tensor(1.6182634, shape=(), dtype=float32)\n",
      "mse: tf.Tensor(2.7795758, shape=(), dtype=float32)\n",
      "mape: tf.Tensor(103953380.0, shape=(), dtype=float32)\n",
      "-> 9\n",
      "mae: tf.Tensor(0.38075998, shape=(), dtype=float32)\n",
      "mse: tf.Tensor(0.68910205, shape=(), dtype=float32)\n",
      "mape: tf.Tensor(406.5345, shape=(), dtype=float32)\n",
      "-> 10\n",
      "mae: tf.Tensor(2.0101085, shape=(), dtype=float32)\n",
      "mse: tf.Tensor(4.360154, shape=(), dtype=float32)\n",
      "mape: tf.Tensor(86336820.0, shape=(), dtype=float32)\n",
      "-> 11\n",
      "mae: tf.Tensor(0.4558927, shape=(), dtype=float32)\n",
      "mse: tf.Tensor(0.7548493, shape=(), dtype=float32)\n",
      "mape: tf.Tensor(151.21164, shape=(), dtype=float32)\n",
      "-> 12\n",
      "mae: tf.Tensor(2.6894276, shape=(), dtype=float32)\n",
      "mse: tf.Tensor(8.744217, shape=(), dtype=float32)\n",
      "mape: tf.Tensor(32078434.0, shape=(), dtype=float32)\n",
      "-> 13\n",
      "mae: tf.Tensor(0.5086596, shape=(), dtype=float32)\n",
      "mse: tf.Tensor(1.4037557, shape=(), dtype=float32)\n",
      "mape: tf.Tensor(41793336.0, shape=(), dtype=float32)\n",
      "-> 14\n",
      "mae: tf.Tensor(2.4235778, shape=(), dtype=float32)\n",
      "mse: tf.Tensor(6.718322, shape=(), dtype=float32)\n",
      "mape: tf.Tensor(159835410.0, shape=(), dtype=float32)\n",
      "-> 15\n",
      "mae: tf.Tensor(0.7301196, shape=(), dtype=float32)\n",
      "mse: tf.Tensor(2.6394258, shape=(), dtype=float32)\n",
      "mape: tf.Tensor(73898750.0, shape=(), dtype=float32)\n",
      "-> 16\n",
      "mae: tf.Tensor(2.9517903, shape=(), dtype=float32)\n",
      "mse: tf.Tensor(9.385462, shape=(), dtype=float32)\n",
      "mape: tf.Tensor(164749330.0, shape=(), dtype=float32)\n",
      "-> 17\n",
      "mae: tf.Tensor(1.1029117, shape=(), dtype=float32)\n",
      "mse: tf.Tensor(3.0438123, shape=(), dtype=float32)\n",
      "mape: tf.Tensor(75595980.0, shape=(), dtype=float32)\n",
      "-> 18\n",
      "mae: tf.Tensor(3.2466664, shape=(), dtype=float32)\n",
      "mse: tf.Tensor(11.549177, shape=(), dtype=float32)\n",
      "mape: tf.Tensor(285697380.0, shape=(), dtype=float32)\n",
      "-> 19\n",
      "mae: tf.Tensor(1.1005248, shape=(), dtype=float32)\n",
      "mse: tf.Tensor(4.791289, shape=(), dtype=float32)\n",
      "mape: tf.Tensor(303010180.0, shape=(), dtype=float32)\n",
      "-> 20\n",
      "mae: tf.Tensor(3.5657527, shape=(), dtype=float32)\n",
      "mse: tf.Tensor(14.249202, shape=(), dtype=float32)\n",
      "mape: tf.Tensor(141840740.0, shape=(), dtype=float32)\n",
      "-> 21\n",
      "mae: tf.Tensor(1.4745764, shape=(), dtype=float32)\n",
      "mse: tf.Tensor(6.3889637, shape=(), dtype=float32)\n",
      "mape: tf.Tensor(205340700.0, shape=(), dtype=float32)\n",
      "-> 22\n",
      "mae: tf.Tensor(3.7348545, shape=(), dtype=float32)\n",
      "mse: tf.Tensor(19.055655, shape=(), dtype=float32)\n",
      "mape: tf.Tensor(195098820.0, shape=(), dtype=float32)\n",
      "-> 23\n",
      "mae: tf.Tensor(1.9084488, shape=(), dtype=float32)\n",
      "mse: tf.Tensor(9.752691, shape=(), dtype=float32)\n",
      "mape: tf.Tensor(256536830.0, shape=(), dtype=float32)\n",
      "-> 24\n",
      "mae: tf.Tensor(3.9894755, shape=(), dtype=float32)\n",
      "mse: tf.Tensor(19.533312, shape=(), dtype=float32)\n",
      "mape: tf.Tensor(130424800.0, shape=(), dtype=float32)\n",
      "-> 25\n",
      "mae: tf.Tensor(2.3595674, shape=(), dtype=float32)\n",
      "mse: tf.Tensor(12.625859, shape=(), dtype=float32)\n",
      "mape: tf.Tensor(243213500.0, shape=(), dtype=float32)\n",
      "-> 26\n",
      "mae: tf.Tensor(4.457533, shape=(), dtype=float32)\n",
      "mse: tf.Tensor(24.46729, shape=(), dtype=float32)\n",
      "mape: tf.Tensor(191587780.0, shape=(), dtype=float32)\n",
      "-> 27\n",
      "mae: tf.Tensor(2.850501, shape=(), dtype=float32)\n",
      "mse: tf.Tensor(16.038774, shape=(), dtype=float32)\n",
      "mape: tf.Tensor(260291060.0, shape=(), dtype=float32)\n",
      "-> 28\n",
      "mae: tf.Tensor(4.5448775, shape=(), dtype=float32)\n",
      "mse: tf.Tensor(27.110847, shape=(), dtype=float32)\n",
      "mape: tf.Tensor(433779650.0, shape=(), dtype=float32)\n",
      "-> 29\n",
      "mae: tf.Tensor(3.0172017, shape=(), dtype=float32)\n",
      "mse: tf.Tensor(19.658045, shape=(), dtype=float32)\n",
      "mape: tf.Tensor(699014700.0, shape=(), dtype=float32)\n",
      "-> 30\n",
      "mae: tf.Tensor(4.5859294, shape=(), dtype=float32)\n",
      "mse: tf.Tensor(29.503689, shape=(), dtype=float32)\n",
      "mape: tf.Tensor(199500380.0, shape=(), dtype=float32)\n",
      "-> 31\n",
      "mae: tf.Tensor(4.0211697, shape=(), dtype=float32)\n",
      "mse: tf.Tensor(23.885084, shape=(), dtype=float32)\n",
      "mape: tf.Tensor(579147000.0, shape=(), dtype=float32)\n",
      "-> 32\n",
      "mae: tf.Tensor(4.745968, shape=(), dtype=float32)\n",
      "mse: tf.Tensor(33.705223, shape=(), dtype=float32)\n",
      "mape: tf.Tensor(159394340.0, shape=(), dtype=float32)\n",
      "-> 33\n",
      "mae: tf.Tensor(4.398264, shape=(), dtype=float32)\n",
      "mse: tf.Tensor(34.019955, shape=(), dtype=float32)\n",
      "mape: tf.Tensor(512166100.0, shape=(), dtype=float32)\n",
      "-> 34\n",
      "mae: tf.Tensor(5.111144, shape=(), dtype=float32)\n",
      "mse: tf.Tensor(31.788689, shape=(), dtype=float32)\n",
      "mape: tf.Tensor(310995840.0, shape=(), dtype=float32)\n",
      "-> 35\n",
      "mae: tf.Tensor(5.162469, shape=(), dtype=float32)\n",
      "mse: tf.Tensor(39.17201, shape=(), dtype=float32)\n",
      "mape: tf.Tensor(1052556400.0, shape=(), dtype=float32)\n",
      "-> 36\n",
      "mae: tf.Tensor(4.755398, shape=(), dtype=float32)\n",
      "mse: tf.Tensor(35.17535, shape=(), dtype=float32)\n",
      "mape: tf.Tensor(158066940.0, shape=(), dtype=float32)\n",
      "-> 37\n",
      "mae: tf.Tensor(6.157101, shape=(), dtype=float32)\n",
      "mse: tf.Tensor(48.849228, shape=(), dtype=float32)\n",
      "mape: tf.Tensor(692135500.0, shape=(), dtype=float32)\n",
      "-> 38\n",
      "mae: tf.Tensor(5.0724664, shape=(), dtype=float32)\n",
      "mse: tf.Tensor(37.593052, shape=(), dtype=float32)\n",
      "mape: tf.Tensor(286988960.0, shape=(), dtype=float32)\n",
      "-> 39\n",
      "mae: tf.Tensor(6.9225326, shape=(), dtype=float32)\n",
      "mse: tf.Tensor(57.823658, shape=(), dtype=float32)\n",
      "mape: tf.Tensor(716637760.0, shape=(), dtype=float32)\n"
     ]
    }
   ],
   "source": [
    "for i in range(0, n_features):\n",
    "    print('->', i)\n",
    "    mse_ = tf.keras.losses.MeanSquaredError()\n",
    "    mae_ = tf.keras.losses.MeanAbsoluteError()\n",
    "    mape_ = tf.keras.losses.MeanAbsolutePercentageError()\n",
    "    mae = mae_(y_test_inverse[:,i],yhat_inverse[:,i])\n",
    "    print('mae:', mae)\n",
    "    mse = mse_(y_test_inverse[:,i],yhat_inverse[:,i])\n",
    "    print('mse:', mse)\n",
    "    mape = mape_(y_test_inverse[:,i],yhat_inverse[:,i])\n",
    "    print('mape:', mape)"
   ]
  },
  {
   "cell_type": "code",
   "execution_count": 15,
   "metadata": {},
   "outputs": [],
   "source": [
    "# def create_model(units, dropout_rate):\n",
    "#   model = Sequential()\n",
    "#   # Add layers to your model here\n",
    "#   model.add(Dense(units, input_shape=input_shape))\n",
    "#   model.add(Dropout(dropout_rate))\n",
    "#   # Add more layers as needed\n",
    "#   model.compile(loss='mean_squared_error', optimizer='adam')\n",
    "#   return model\n",
    "\n",
    "from keras.models import Sequential\n",
    "from keras.layers import Conv1D, MaxPooling1D, Flatten, RepeatVector, LSTM, TimeDistributed, Dense\n",
    "\n",
    "def create_model(batch_size=16, units=16, dropout_rate=0.2, epochs=20):\n",
    "    model_enc_dec_cnn = Sequential()\n",
    "    model_enc_dec_cnn.add(Conv1D(filters=64, kernel_size=9, activation='tanh', input_shape=(LOOK_BACK, n_features)))\n",
    "    model_enc_dec_cnn.add(Conv1D(filters=64, kernel_size=11, activation='tanh'))\n",
    "    model_enc_dec_cnn.add(MaxPooling1D(pool_size=2))\n",
    "    model_enc_dec_cnn.add(Flatten())\n",
    "    model_enc_dec_cnn.add(RepeatVector(FORECAST_RANGE))\n",
    "    model_enc_dec_cnn.add(LSTM(units, activation='tanh', return_sequences=True, dropout=dropout_rate))\n",
    "    model_enc_dec_cnn.add(TimeDistributed(Dense(100, activation='tanh')))\n",
    "    model_enc_dec_cnn.add(TimeDistributed(Dense(n_features)))\n",
    "    model_enc_dec_cnn.compile(loss='mse', optimizer='adam')\n",
    "    model_enc_dec_cnn.fit(X_train, y_train, epochs=epochs, batch_size=batch_size, validation_split=validation,callbacks=[early_stopping_callback, checkpoint_callback, rlrop_callback])\n",
    "    return model_enc_dec_cnn\n",
    "\n"
   ]
  },
  {
   "cell_type": "code",
   "execution_count": 16,
   "metadata": {},
   "outputs": [],
   "source": [
    "# from sklearn.model_selection import GridSearchCV\n",
    "# from keras.wrappers.scikit_learn import KerasRegressor\n",
    "# from joblib import Parallel, delayed\n",
    "# # from scikeras.wrappers import KerasRegressor\n",
    "\n",
    "# # Define the input shape\n",
    "# input_shape = (LOOK_BACK, n_features)\n",
    "\n",
    "# # Create the model\n",
    "# model = KerasRegressor(build_fn=create_model, verbose=0)\n",
    "\n",
    "# # Define the parameter grid\n",
    "# # param_grid = {\n",
    "# #     'batch_size': [16, 32, 64, 128, 256, 512],\n",
    "# #     'epochs': [10, 20, 30, 40, 50, 100, 200],\n",
    "# #     'units': [16, 32, 64, 128, 256, 512],\n",
    "# #     'dropout_rate': [0.1, 0.2, 0.3, 0.4, 0.5, 0.6]\n",
    "# # }\n",
    "\n",
    "# param_grid = {\n",
    "#     'batch_size': [16, 32, 64],\n",
    "#     'epochs': [10, 20],\n",
    "#     'units': [16, 32, 64],\n",
    "#     'dropout_rate': [0.2, 0.3, 0.4]\n",
    "# }\n",
    "\n",
    "# # Create the grid search object\n",
    "# grid_search = GridSearchCV(estimator=model, param_grid=param_grid, cv=3, n_jobs=1, verbose=1)\n",
    "\n",
    "# # grid_search = GridSearchCV(estimator=model, param_grid=param_grid, cv=3, n_jobs=1, verbose=1, pre_dispatch='2*n_jobs')\n",
    "\n",
    "# # Parallelize the grid search\n",
    "# # results = Parallel(n_jobs=-1, verbose=1)(delayed(grid_search.fit)(X_train, y_train) for i in range(num_repeats))\n",
    "\n",
    "# # Fit the grid search to the data\n",
    "# grid_search.fit(X_train, y_train)\n",
    "\n",
    "# # Print the best hyperparameters\n",
    "# print('Best hyperparameters:', grid_search.best_params_)\n",
    "\n",
    "# # Evaluate the model with the best hyperparameters on the test data\n",
    "# best_model = grid_search.best_estimator_\n",
    "# yhat = best_model.predict(X_test)\n",
    "# y_test_inverse = scaler.inverse_transform(y_test)\n",
    "# yhat_inverse = scaler.inverse_transform(yhat)\n",
    "# evaluate_forecast(y_test_inverse, yhat_inverse)"
   ]
  },
  {
   "cell_type": "code",
   "execution_count": null,
   "metadata": {},
   "outputs": [],
   "source": []
  }
 ],
 "metadata": {
  "kernelspec": {
   "display_name": "Python 3",
   "language": "python",
   "name": "python3"
  },
  "language_info": {
   "codemirror_mode": {
    "name": "ipython",
    "version": 3
   },
   "file_extension": ".py",
   "mimetype": "text/x-python",
   "name": "python",
   "nbconvert_exporter": "python",
   "pygments_lexer": "ipython3",
   "version": "3.10.0 (v3.10.0:b494f5935c, Oct  4 2021, 14:59:19) [Clang 12.0.5 (clang-1205.0.22.11)]"
  },
  "orig_nbformat": 4,
  "vscode": {
   "interpreter": {
    "hash": "aee8b7b246df8f9039afb4144a1f6fd8d2ca17a180786b69acc140d282b71a49"
   }
  }
 },
 "nbformat": 4,
 "nbformat_minor": 2
}
